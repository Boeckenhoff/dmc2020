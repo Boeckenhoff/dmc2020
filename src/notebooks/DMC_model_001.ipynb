{
  "nbformat": 4,
  "nbformat_minor": 0,
  "metadata": {
    "colab": {
      "name": "DMC_model_001.ipynb",
      "provenance": [],
      "collapsed_sections": [],
      "machine_shape": "hm"
    },
    "kernelspec": {
      "name": "python3",
      "display_name": "Python 3"
    },
    "widgets": {
      "application/vnd.jupyter.widget-state+json": {
        "dbe48cab1deb40a1831615e1f908d0df": {
          "model_module": "@jupyter-widgets/controls",
          "model_name": "HBoxModel",
          "state": {
            "_view_name": "HBoxView",
            "_dom_classes": [],
            "_model_name": "HBoxModel",
            "_view_module": "@jupyter-widgets/controls",
            "_model_module_version": "1.5.0",
            "_view_count": null,
            "_view_module_version": "1.5.0",
            "box_style": "",
            "layout": "IPY_MODEL_b125c2b554074f768e7aa52699ef2d7d",
            "_model_module": "@jupyter-widgets/controls",
            "children": [
              "IPY_MODEL_35a0cd6d92b745eaacfd2a2944f0611c",
              "IPY_MODEL_3298785cf40e4411895133f0837abd49"
            ]
          }
        },
        "b125c2b554074f768e7aa52699ef2d7d": {
          "model_module": "@jupyter-widgets/base",
          "model_name": "LayoutModel",
          "state": {
            "_view_name": "LayoutView",
            "grid_template_rows": null,
            "right": null,
            "justify_content": null,
            "_view_module": "@jupyter-widgets/base",
            "overflow": null,
            "_model_module_version": "1.2.0",
            "_view_count": null,
            "flex_flow": null,
            "width": null,
            "min_width": null,
            "border": null,
            "align_items": null,
            "bottom": null,
            "_model_module": "@jupyter-widgets/base",
            "top": null,
            "grid_column": null,
            "overflow_y": null,
            "overflow_x": null,
            "grid_auto_flow": null,
            "grid_area": null,
            "grid_template_columns": null,
            "flex": null,
            "_model_name": "LayoutModel",
            "justify_items": null,
            "grid_row": null,
            "max_height": null,
            "align_content": null,
            "visibility": null,
            "align_self": null,
            "height": null,
            "min_height": null,
            "padding": null,
            "grid_auto_rows": null,
            "grid_gap": null,
            "max_width": null,
            "order": null,
            "_view_module_version": "1.2.0",
            "grid_template_areas": null,
            "object_position": null,
            "object_fit": null,
            "grid_auto_columns": null,
            "margin": null,
            "display": null,
            "left": null
          }
        },
        "35a0cd6d92b745eaacfd2a2944f0611c": {
          "model_module": "@jupyter-widgets/controls",
          "model_name": "IntProgressModel",
          "state": {
            "_view_name": "ProgressView",
            "style": "IPY_MODEL_0a0ca117b18c4ed896e24cc97bd29090",
            "_dom_classes": [],
            "description": "100%",
            "_model_name": "IntProgressModel",
            "bar_style": "success",
            "max": 10463,
            "_view_module": "@jupyter-widgets/controls",
            "_model_module_version": "1.5.0",
            "value": 10463,
            "_view_count": null,
            "_view_module_version": "1.5.0",
            "orientation": "horizontal",
            "min": 0,
            "description_tooltip": null,
            "_model_module": "@jupyter-widgets/controls",
            "layout": "IPY_MODEL_d61ef6425a624d93954c2c6e75aff8f1"
          }
        },
        "3298785cf40e4411895133f0837abd49": {
          "model_module": "@jupyter-widgets/controls",
          "model_name": "HTMLModel",
          "state": {
            "_view_name": "HTMLView",
            "style": "IPY_MODEL_fde7926e35b64a9d8fbeb5678bd0f114",
            "_dom_classes": [],
            "description": "",
            "_model_name": "HTMLModel",
            "placeholder": "​",
            "_view_module": "@jupyter-widgets/controls",
            "_model_module_version": "1.5.0",
            "value": " 10463/10463 [10:56&lt;00:00, 15.94it/s]",
            "_view_count": null,
            "_view_module_version": "1.5.0",
            "description_tooltip": null,
            "_model_module": "@jupyter-widgets/controls",
            "layout": "IPY_MODEL_6e3288a90ef34fe5957942a560dca31c"
          }
        },
        "0a0ca117b18c4ed896e24cc97bd29090": {
          "model_module": "@jupyter-widgets/controls",
          "model_name": "ProgressStyleModel",
          "state": {
            "_view_name": "StyleView",
            "_model_name": "ProgressStyleModel",
            "description_width": "initial",
            "_view_module": "@jupyter-widgets/base",
            "_model_module_version": "1.5.0",
            "_view_count": null,
            "_view_module_version": "1.2.0",
            "bar_color": null,
            "_model_module": "@jupyter-widgets/controls"
          }
        },
        "d61ef6425a624d93954c2c6e75aff8f1": {
          "model_module": "@jupyter-widgets/base",
          "model_name": "LayoutModel",
          "state": {
            "_view_name": "LayoutView",
            "grid_template_rows": null,
            "right": null,
            "justify_content": null,
            "_view_module": "@jupyter-widgets/base",
            "overflow": null,
            "_model_module_version": "1.2.0",
            "_view_count": null,
            "flex_flow": null,
            "width": null,
            "min_width": null,
            "border": null,
            "align_items": null,
            "bottom": null,
            "_model_module": "@jupyter-widgets/base",
            "top": null,
            "grid_column": null,
            "overflow_y": null,
            "overflow_x": null,
            "grid_auto_flow": null,
            "grid_area": null,
            "grid_template_columns": null,
            "flex": null,
            "_model_name": "LayoutModel",
            "justify_items": null,
            "grid_row": null,
            "max_height": null,
            "align_content": null,
            "visibility": null,
            "align_self": null,
            "height": null,
            "min_height": null,
            "padding": null,
            "grid_auto_rows": null,
            "grid_gap": null,
            "max_width": null,
            "order": null,
            "_view_module_version": "1.2.0",
            "grid_template_areas": null,
            "object_position": null,
            "object_fit": null,
            "grid_auto_columns": null,
            "margin": null,
            "display": null,
            "left": null
          }
        },
        "fde7926e35b64a9d8fbeb5678bd0f114": {
          "model_module": "@jupyter-widgets/controls",
          "model_name": "DescriptionStyleModel",
          "state": {
            "_view_name": "StyleView",
            "_model_name": "DescriptionStyleModel",
            "description_width": "",
            "_view_module": "@jupyter-widgets/base",
            "_model_module_version": "1.5.0",
            "_view_count": null,
            "_view_module_version": "1.2.0",
            "_model_module": "@jupyter-widgets/controls"
          }
        },
        "6e3288a90ef34fe5957942a560dca31c": {
          "model_module": "@jupyter-widgets/base",
          "model_name": "LayoutModel",
          "state": {
            "_view_name": "LayoutView",
            "grid_template_rows": null,
            "right": null,
            "justify_content": null,
            "_view_module": "@jupyter-widgets/base",
            "overflow": null,
            "_model_module_version": "1.2.0",
            "_view_count": null,
            "flex_flow": null,
            "width": null,
            "min_width": null,
            "border": null,
            "align_items": null,
            "bottom": null,
            "_model_module": "@jupyter-widgets/base",
            "top": null,
            "grid_column": null,
            "overflow_y": null,
            "overflow_x": null,
            "grid_auto_flow": null,
            "grid_area": null,
            "grid_template_columns": null,
            "flex": null,
            "_model_name": "LayoutModel",
            "justify_items": null,
            "grid_row": null,
            "max_height": null,
            "align_content": null,
            "visibility": null,
            "align_self": null,
            "height": null,
            "min_height": null,
            "padding": null,
            "grid_auto_rows": null,
            "grid_gap": null,
            "max_width": null,
            "order": null,
            "_view_module_version": "1.2.0",
            "grid_template_areas": null,
            "object_position": null,
            "object_fit": null,
            "grid_auto_columns": null,
            "margin": null,
            "display": null,
            "left": null
          }
        }
      }
    }
  },
  "cells": [
    {
      "cell_type": "code",
      "metadata": {
        "id": "YNG49JaHsgvP",
        "colab_type": "code",
        "outputId": "dd3e7910-9df1-47e4-cdf1-575f0e553f5b",
        "colab": {
          "base_uri": "https://localhost:8080/",
          "height": 156
        }
      },
      "source": [
        "import pandas as pd\n",
        "import numpy as np\n",
        "import matplotlib.pyplot as plt\n",
        "import seaborn as sns\n",
        "\n",
        "from google.colab import drive\n",
        "drive.mount('/content/drive')\n",
        "\n",
        "%matplotlib inline"
      ],
      "execution_count": 1,
      "outputs": [
        {
          "output_type": "stream",
          "text": [
            "/usr/local/lib/python3.6/dist-packages/statsmodels/tools/_testing.py:19: FutureWarning: pandas.util.testing is deprecated. Use the functions in the public API at pandas.testing instead.\n",
            "  import pandas.util.testing as tm\n"
          ],
          "name": "stderr"
        },
        {
          "output_type": "stream",
          "text": [
            "Go to this URL in a browser: https://accounts.google.com/o/oauth2/auth?client_id=947318989803-6bn6qk8qdgf4n4g3pfee6491hc0brc4i.apps.googleusercontent.com&redirect_uri=urn%3aietf%3awg%3aoauth%3a2.0%3aoob&response_type=code&scope=email%20https%3a%2f%2fwww.googleapis.com%2fauth%2fdocs.test%20https%3a%2f%2fwww.googleapis.com%2fauth%2fdrive%20https%3a%2f%2fwww.googleapis.com%2fauth%2fdrive.photos.readonly%20https%3a%2f%2fwww.googleapis.com%2fauth%2fpeopleapi.readonly\n",
            "\n",
            "Enter your authorization code:\n",
            "··········\n",
            "Mounted at /content/drive\n"
          ],
          "name": "stdout"
        }
      ]
    },
    {
      "cell_type": "code",
      "metadata": {
        "id": "8lQ9aChvs2W3",
        "colab_type": "code",
        "colab": {}
      },
      "source": [
        "infos_df = pd.read_csv('/content/drive/My Drive/DMC2020/infos.csv', sep='|')\n",
        "items_df = pd.read_csv('/content/drive/My Drive/DMC2020/items.csv', sep='|')\n",
        "orders_df = pd.read_csv('/content/drive/My Drive/DMC2020/orders.csv', sep='|')"
      ],
      "execution_count": 0,
      "outputs": []
    },
    {
      "cell_type": "code",
      "metadata": {
        "id": "NXfGWp42s-F8",
        "colab_type": "code",
        "colab": {}
      },
      "source": [
        "import pandas as pd\n",
        "import numpy as np\n",
        "from itertools import product\n",
        "from tqdm import tqdm_notebook\n",
        "\n",
        "def create_item_perDay_df(orders_df, infos_df, items_df):\n",
        "\n",
        "  df = pd.DataFrame(list(product(infos_df['itemID'], pd.date_range(start='01-01-2018', end='06-29-2018'))), columns=['itemID', 'date'])\n",
        "\n",
        "  date_df = pd.DataFrame(pd.date_range(start='01-01-2018', end='06-29-2018'), columns=['date'])\n",
        "  date_df['week'] = date_df['date'].dt.week.shift(-2, fill_value=26)\n",
        "\n",
        "  df = df.merge(date_df, how='outer', on='date')\n",
        "\n",
        "  orders_df['date'] = pd.to_datetime(orders_df['time']).dt.date\n",
        "  orders_df = orders_df.groupby(['date', 'itemID']).aggregate({'order':np.sum,'salesPrice':np.mean}).reset_index()\n",
        "  orders_df['date'] = pd.to_datetime(orders_df['date'])\n",
        "\n",
        "  df = pd.merge(df, orders_df, how='outer', on=['date','itemID'])\n",
        "\n",
        "  for i in tqdm_notebook(range(1,10464,1)):\n",
        "    item = df.loc[df['itemID'] == i]\n",
        "    item['salesPrice'].fillna(method='ffill', inplace=True)\n",
        "    item['salesPrice'].fillna(method='bfill', inplace=True)\n",
        "    item.fillna(infos_df['simulationPrice'].loc[infos_df['itemID']==i], inplace=True)\n",
        "    df.loc[df['itemID'] == i] = item\n",
        "\n",
        "\n",
        "  df.fillna(0, inplace=True)\n",
        "\n",
        "  return df.merge(items_df, how='outer', on='itemID')"
      ],
      "execution_count": 0,
      "outputs": []
    },
    {
      "cell_type": "code",
      "metadata": {
        "id": "ZYSJmCcOouCr",
        "colab_type": "code",
        "colab": {
          "base_uri": "https://localhost:8080/",
          "height": 185,
          "referenced_widgets": [
            "dbe48cab1deb40a1831615e1f908d0df",
            "b125c2b554074f768e7aa52699ef2d7d",
            "35a0cd6d92b745eaacfd2a2944f0611c",
            "3298785cf40e4411895133f0837abd49",
            "0a0ca117b18c4ed896e24cc97bd29090",
            "d61ef6425a624d93954c2c6e75aff8f1",
            "fde7926e35b64a9d8fbeb5678bd0f114",
            "6e3288a90ef34fe5957942a560dca31c"
          ]
        },
        "outputId": "13a5a162-fabe-4ae1-a61c-efd0fbc5750d"
      },
      "source": [
        "data = create_item_perDay_df(orders_df, infos_df, items_df)"
      ],
      "execution_count": 25,
      "outputs": [
        {
          "output_type": "stream",
          "text": [
            "/usr/local/lib/python3.6/dist-packages/ipykernel_launcher.py:21: TqdmDeprecationWarning: This function will be removed in tqdm==5.0.0\n",
            "Please use `tqdm.notebook.tqdm` instead of `tqdm.tqdm_notebook`\n"
          ],
          "name": "stderr"
        },
        {
          "output_type": "display_data",
          "data": {
            "application/vnd.jupyter.widget-view+json": {
              "model_id": "dbe48cab1deb40a1831615e1f908d0df",
              "version_minor": 0,
              "version_major": 2
            },
            "text/plain": [
              "HBox(children=(IntProgress(value=0, max=10463), HTML(value='')))"
            ]
          },
          "metadata": {
            "tags": []
          }
        },
        {
          "output_type": "stream",
          "text": [
            "/usr/local/lib/python3.6/dist-packages/pandas/core/generic.py:6245: SettingWithCopyWarning: \n",
            "A value is trying to be set on a copy of a slice from a DataFrame\n",
            "\n",
            "See the caveats in the documentation: https://pandas.pydata.org/pandas-docs/stable/user_guide/indexing.html#returning-a-view-versus-a-copy\n",
            "  self._update_inplace(new_data)\n"
          ],
          "name": "stderr"
        },
        {
          "output_type": "stream",
          "text": [
            "\n"
          ],
          "name": "stdout"
        }
      ]
    },
    {
      "cell_type": "code",
      "metadata": {
        "id": "_cNfP3d4sU6v",
        "colab_type": "code",
        "colab": {}
      },
      "source": [
        "df = data"
      ],
      "execution_count": 0,
      "outputs": []
    },
    {
      "cell_type": "code",
      "metadata": {
        "id": "VhH40qEf__Fb",
        "colab_type": "code",
        "colab": {}
      },
      "source": [
        "df['Day'] = pd.Index(df['date']).day\n",
        "df['Dayofweek'] = pd.Index(df['date']).dayofweek\n",
        "df['Month'] = pd.Index(df['date']).month\n",
        "df['DateInt'] = df['date'].astype(np.int64)"
      ],
      "execution_count": 0,
      "outputs": []
    },
    {
      "cell_type": "code",
      "metadata": {
        "id": "WKNX1hdkAnl4",
        "colab_type": "code",
        "outputId": "b1c0d543-74c8-484f-b989-b882b8f7924d",
        "colab": {
          "base_uri": "https://localhost:8080/",
          "height": 419
        }
      },
      "source": [
        "df"
      ],
      "execution_count": 31,
      "outputs": [
        {
          "output_type": "execute_result",
          "data": {
            "text/html": [
              "<div>\n",
              "<style scoped>\n",
              "    .dataframe tbody tr th:only-of-type {\n",
              "        vertical-align: middle;\n",
              "    }\n",
              "\n",
              "    .dataframe tbody tr th {\n",
              "        vertical-align: top;\n",
              "    }\n",
              "\n",
              "    .dataframe thead th {\n",
              "        text-align: right;\n",
              "    }\n",
              "</style>\n",
              "<table border=\"1\" class=\"dataframe\">\n",
              "  <thead>\n",
              "    <tr style=\"text-align: right;\">\n",
              "      <th></th>\n",
              "      <th>itemID</th>\n",
              "      <th>date</th>\n",
              "      <th>week</th>\n",
              "      <th>order</th>\n",
              "      <th>salesPrice</th>\n",
              "      <th>brand</th>\n",
              "      <th>manufacturer</th>\n",
              "      <th>customerRating</th>\n",
              "      <th>category1</th>\n",
              "      <th>category2</th>\n",
              "      <th>category3</th>\n",
              "      <th>recommendedRetailPrice</th>\n",
              "      <th>Day</th>\n",
              "      <th>Dayofweek</th>\n",
              "      <th>Month</th>\n",
              "      <th>DateInt</th>\n",
              "    </tr>\n",
              "  </thead>\n",
              "  <tbody>\n",
              "    <tr>\n",
              "      <th>0</th>\n",
              "      <td>1</td>\n",
              "      <td>2018-01-01</td>\n",
              "      <td>1</td>\n",
              "      <td>0.0</td>\n",
              "      <td>3.11</td>\n",
              "      <td>0</td>\n",
              "      <td>1</td>\n",
              "      <td>4.38</td>\n",
              "      <td>1</td>\n",
              "      <td>1</td>\n",
              "      <td>1</td>\n",
              "      <td>8.84</td>\n",
              "      <td>1</td>\n",
              "      <td>0</td>\n",
              "      <td>1</td>\n",
              "      <td>1514764800000000000</td>\n",
              "    </tr>\n",
              "    <tr>\n",
              "      <th>1</th>\n",
              "      <td>1</td>\n",
              "      <td>2018-01-02</td>\n",
              "      <td>1</td>\n",
              "      <td>0.0</td>\n",
              "      <td>3.11</td>\n",
              "      <td>0</td>\n",
              "      <td>1</td>\n",
              "      <td>4.38</td>\n",
              "      <td>1</td>\n",
              "      <td>1</td>\n",
              "      <td>1</td>\n",
              "      <td>8.84</td>\n",
              "      <td>2</td>\n",
              "      <td>1</td>\n",
              "      <td>1</td>\n",
              "      <td>1514851200000000000</td>\n",
              "    </tr>\n",
              "    <tr>\n",
              "      <th>2</th>\n",
              "      <td>1</td>\n",
              "      <td>2018-01-03</td>\n",
              "      <td>1</td>\n",
              "      <td>0.0</td>\n",
              "      <td>3.11</td>\n",
              "      <td>0</td>\n",
              "      <td>1</td>\n",
              "      <td>4.38</td>\n",
              "      <td>1</td>\n",
              "      <td>1</td>\n",
              "      <td>1</td>\n",
              "      <td>8.84</td>\n",
              "      <td>3</td>\n",
              "      <td>2</td>\n",
              "      <td>1</td>\n",
              "      <td>1514937600000000000</td>\n",
              "    </tr>\n",
              "    <tr>\n",
              "      <th>3</th>\n",
              "      <td>1</td>\n",
              "      <td>2018-01-04</td>\n",
              "      <td>1</td>\n",
              "      <td>0.0</td>\n",
              "      <td>3.11</td>\n",
              "      <td>0</td>\n",
              "      <td>1</td>\n",
              "      <td>4.38</td>\n",
              "      <td>1</td>\n",
              "      <td>1</td>\n",
              "      <td>1</td>\n",
              "      <td>8.84</td>\n",
              "      <td>4</td>\n",
              "      <td>3</td>\n",
              "      <td>1</td>\n",
              "      <td>1515024000000000000</td>\n",
              "    </tr>\n",
              "    <tr>\n",
              "      <th>4</th>\n",
              "      <td>1</td>\n",
              "      <td>2018-01-05</td>\n",
              "      <td>1</td>\n",
              "      <td>0.0</td>\n",
              "      <td>3.11</td>\n",
              "      <td>0</td>\n",
              "      <td>1</td>\n",
              "      <td>4.38</td>\n",
              "      <td>1</td>\n",
              "      <td>1</td>\n",
              "      <td>1</td>\n",
              "      <td>8.84</td>\n",
              "      <td>5</td>\n",
              "      <td>4</td>\n",
              "      <td>1</td>\n",
              "      <td>1515110400000000000</td>\n",
              "    </tr>\n",
              "    <tr>\n",
              "      <th>...</th>\n",
              "      <td>...</td>\n",
              "      <td>...</td>\n",
              "      <td>...</td>\n",
              "      <td>...</td>\n",
              "      <td>...</td>\n",
              "      <td>...</td>\n",
              "      <td>...</td>\n",
              "      <td>...</td>\n",
              "      <td>...</td>\n",
              "      <td>...</td>\n",
              "      <td>...</td>\n",
              "      <td>...</td>\n",
              "      <td>...</td>\n",
              "      <td>...</td>\n",
              "      <td>...</td>\n",
              "      <td>...</td>\n",
              "    </tr>\n",
              "    <tr>\n",
              "      <th>1883335</th>\n",
              "      <td>10463</td>\n",
              "      <td>2018-06-25</td>\n",
              "      <td>26</td>\n",
              "      <td>0.0</td>\n",
              "      <td>282.16</td>\n",
              "      <td>0</td>\n",
              "      <td>253</td>\n",
              "      <td>0.00</td>\n",
              "      <td>8</td>\n",
              "      <td>44</td>\n",
              "      <td>8</td>\n",
              "      <td>154.82</td>\n",
              "      <td>25</td>\n",
              "      <td>0</td>\n",
              "      <td>6</td>\n",
              "      <td>1529884800000000000</td>\n",
              "    </tr>\n",
              "    <tr>\n",
              "      <th>1883336</th>\n",
              "      <td>10463</td>\n",
              "      <td>2018-06-26</td>\n",
              "      <td>26</td>\n",
              "      <td>0.0</td>\n",
              "      <td>282.16</td>\n",
              "      <td>0</td>\n",
              "      <td>253</td>\n",
              "      <td>0.00</td>\n",
              "      <td>8</td>\n",
              "      <td>44</td>\n",
              "      <td>8</td>\n",
              "      <td>154.82</td>\n",
              "      <td>26</td>\n",
              "      <td>1</td>\n",
              "      <td>6</td>\n",
              "      <td>1529971200000000000</td>\n",
              "    </tr>\n",
              "    <tr>\n",
              "      <th>1883337</th>\n",
              "      <td>10463</td>\n",
              "      <td>2018-06-27</td>\n",
              "      <td>26</td>\n",
              "      <td>0.0</td>\n",
              "      <td>282.16</td>\n",
              "      <td>0</td>\n",
              "      <td>253</td>\n",
              "      <td>0.00</td>\n",
              "      <td>8</td>\n",
              "      <td>44</td>\n",
              "      <td>8</td>\n",
              "      <td>154.82</td>\n",
              "      <td>27</td>\n",
              "      <td>2</td>\n",
              "      <td>6</td>\n",
              "      <td>1530057600000000000</td>\n",
              "    </tr>\n",
              "    <tr>\n",
              "      <th>1883338</th>\n",
              "      <td>10463</td>\n",
              "      <td>2018-06-28</td>\n",
              "      <td>26</td>\n",
              "      <td>0.0</td>\n",
              "      <td>282.16</td>\n",
              "      <td>0</td>\n",
              "      <td>253</td>\n",
              "      <td>0.00</td>\n",
              "      <td>8</td>\n",
              "      <td>44</td>\n",
              "      <td>8</td>\n",
              "      <td>154.82</td>\n",
              "      <td>28</td>\n",
              "      <td>3</td>\n",
              "      <td>6</td>\n",
              "      <td>1530144000000000000</td>\n",
              "    </tr>\n",
              "    <tr>\n",
              "      <th>1883339</th>\n",
              "      <td>10463</td>\n",
              "      <td>2018-06-29</td>\n",
              "      <td>26</td>\n",
              "      <td>0.0</td>\n",
              "      <td>282.16</td>\n",
              "      <td>0</td>\n",
              "      <td>253</td>\n",
              "      <td>0.00</td>\n",
              "      <td>8</td>\n",
              "      <td>44</td>\n",
              "      <td>8</td>\n",
              "      <td>154.82</td>\n",
              "      <td>29</td>\n",
              "      <td>4</td>\n",
              "      <td>6</td>\n",
              "      <td>1530230400000000000</td>\n",
              "    </tr>\n",
              "  </tbody>\n",
              "</table>\n",
              "<p>1883340 rows × 16 columns</p>\n",
              "</div>"
            ],
            "text/plain": [
              "         itemID       date  week  ...  Dayofweek  Month              DateInt\n",
              "0             1 2018-01-01     1  ...          0      1  1514764800000000000\n",
              "1             1 2018-01-02     1  ...          1      1  1514851200000000000\n",
              "2             1 2018-01-03     1  ...          2      1  1514937600000000000\n",
              "3             1 2018-01-04     1  ...          3      1  1515024000000000000\n",
              "4             1 2018-01-05     1  ...          4      1  1515110400000000000\n",
              "...         ...        ...   ...  ...        ...    ...                  ...\n",
              "1883335   10463 2018-06-25    26  ...          0      6  1529884800000000000\n",
              "1883336   10463 2018-06-26    26  ...          1      6  1529971200000000000\n",
              "1883337   10463 2018-06-27    26  ...          2      6  1530057600000000000\n",
              "1883338   10463 2018-06-28    26  ...          3      6  1530144000000000000\n",
              "1883339   10463 2018-06-29    26  ...          4      6  1530230400000000000\n",
              "\n",
              "[1883340 rows x 16 columns]"
            ]
          },
          "metadata": {
            "tags": []
          },
          "execution_count": 31
        }
      ]
    },
    {
      "cell_type": "code",
      "metadata": {
        "id": "sUGaF9DNZMiu",
        "colab_type": "code",
        "colab": {}
      },
      "source": [
        "def score(predictions, y_test, salesPrice):\n",
        "  # predictions,y_test,salesPrice array with equal length and value (order/Price) sorted by itemID ascending\n",
        "\n",
        "  pred_sales = 0\n",
        "  pred_cost = 0\n",
        "  test_sales = 0\n",
        "\n",
        "\n",
        "  for i in range(0, len(predictions), 1):\n",
        "\n",
        "    if (predictions[i] <= y_test[i]): # without overstocking fee\n",
        "      pred_sales += predictions[i] * salesPrice[i]\n",
        "\n",
        "    else: # with overstocking fee\n",
        "      pred_sales += y_test[i] * salesPrice[i]\n",
        "      pred_cost += ((predictions[i]-y_test[i]) * salesPrice[i] * 0.6)\n",
        "\n",
        "    test_sales += y_test[i] * salesPrice[i] # test orders\n",
        "\n",
        "  return pred_sales, pred_cost, test_sales"
      ],
      "execution_count": 0,
      "outputs": []
    },
    {
      "cell_type": "code",
      "metadata": {
        "id": "Z62WsJv9ZfvH",
        "colab_type": "code",
        "colab": {}
      },
      "source": [
        "train = df[df['week']<25]\n",
        "test = df[df['week']>=25]"
      ],
      "execution_count": 0,
      "outputs": []
    },
    {
      "cell_type": "code",
      "metadata": {
        "id": "75Wvq4G-BACC",
        "colab_type": "code",
        "outputId": "5185309c-aab0-41b8-8263-a82dee5a6e79",
        "colab": {
          "base_uri": "https://localhost:8080/",
          "height": 419
        }
      },
      "source": [
        "train"
      ],
      "execution_count": 34,
      "outputs": [
        {
          "output_type": "execute_result",
          "data": {
            "text/html": [
              "<div>\n",
              "<style scoped>\n",
              "    .dataframe tbody tr th:only-of-type {\n",
              "        vertical-align: middle;\n",
              "    }\n",
              "\n",
              "    .dataframe tbody tr th {\n",
              "        vertical-align: top;\n",
              "    }\n",
              "\n",
              "    .dataframe thead th {\n",
              "        text-align: right;\n",
              "    }\n",
              "</style>\n",
              "<table border=\"1\" class=\"dataframe\">\n",
              "  <thead>\n",
              "    <tr style=\"text-align: right;\">\n",
              "      <th></th>\n",
              "      <th>itemID</th>\n",
              "      <th>date</th>\n",
              "      <th>week</th>\n",
              "      <th>order</th>\n",
              "      <th>salesPrice</th>\n",
              "      <th>brand</th>\n",
              "      <th>manufacturer</th>\n",
              "      <th>customerRating</th>\n",
              "      <th>category1</th>\n",
              "      <th>category2</th>\n",
              "      <th>category3</th>\n",
              "      <th>recommendedRetailPrice</th>\n",
              "      <th>Day</th>\n",
              "      <th>Dayofweek</th>\n",
              "      <th>Month</th>\n",
              "      <th>DateInt</th>\n",
              "    </tr>\n",
              "  </thead>\n",
              "  <tbody>\n",
              "    <tr>\n",
              "      <th>0</th>\n",
              "      <td>1</td>\n",
              "      <td>2018-01-01</td>\n",
              "      <td>1</td>\n",
              "      <td>0.0</td>\n",
              "      <td>3.11</td>\n",
              "      <td>0</td>\n",
              "      <td>1</td>\n",
              "      <td>4.38</td>\n",
              "      <td>1</td>\n",
              "      <td>1</td>\n",
              "      <td>1</td>\n",
              "      <td>8.84</td>\n",
              "      <td>1</td>\n",
              "      <td>0</td>\n",
              "      <td>1</td>\n",
              "      <td>1514764800000000000</td>\n",
              "    </tr>\n",
              "    <tr>\n",
              "      <th>1</th>\n",
              "      <td>1</td>\n",
              "      <td>2018-01-02</td>\n",
              "      <td>1</td>\n",
              "      <td>0.0</td>\n",
              "      <td>3.11</td>\n",
              "      <td>0</td>\n",
              "      <td>1</td>\n",
              "      <td>4.38</td>\n",
              "      <td>1</td>\n",
              "      <td>1</td>\n",
              "      <td>1</td>\n",
              "      <td>8.84</td>\n",
              "      <td>2</td>\n",
              "      <td>1</td>\n",
              "      <td>1</td>\n",
              "      <td>1514851200000000000</td>\n",
              "    </tr>\n",
              "    <tr>\n",
              "      <th>2</th>\n",
              "      <td>1</td>\n",
              "      <td>2018-01-03</td>\n",
              "      <td>1</td>\n",
              "      <td>0.0</td>\n",
              "      <td>3.11</td>\n",
              "      <td>0</td>\n",
              "      <td>1</td>\n",
              "      <td>4.38</td>\n",
              "      <td>1</td>\n",
              "      <td>1</td>\n",
              "      <td>1</td>\n",
              "      <td>8.84</td>\n",
              "      <td>3</td>\n",
              "      <td>2</td>\n",
              "      <td>1</td>\n",
              "      <td>1514937600000000000</td>\n",
              "    </tr>\n",
              "    <tr>\n",
              "      <th>3</th>\n",
              "      <td>1</td>\n",
              "      <td>2018-01-04</td>\n",
              "      <td>1</td>\n",
              "      <td>0.0</td>\n",
              "      <td>3.11</td>\n",
              "      <td>0</td>\n",
              "      <td>1</td>\n",
              "      <td>4.38</td>\n",
              "      <td>1</td>\n",
              "      <td>1</td>\n",
              "      <td>1</td>\n",
              "      <td>8.84</td>\n",
              "      <td>4</td>\n",
              "      <td>3</td>\n",
              "      <td>1</td>\n",
              "      <td>1515024000000000000</td>\n",
              "    </tr>\n",
              "    <tr>\n",
              "      <th>4</th>\n",
              "      <td>1</td>\n",
              "      <td>2018-01-05</td>\n",
              "      <td>1</td>\n",
              "      <td>0.0</td>\n",
              "      <td>3.11</td>\n",
              "      <td>0</td>\n",
              "      <td>1</td>\n",
              "      <td>4.38</td>\n",
              "      <td>1</td>\n",
              "      <td>1</td>\n",
              "      <td>1</td>\n",
              "      <td>8.84</td>\n",
              "      <td>5</td>\n",
              "      <td>4</td>\n",
              "      <td>1</td>\n",
              "      <td>1515110400000000000</td>\n",
              "    </tr>\n",
              "    <tr>\n",
              "      <th>...</th>\n",
              "      <td>...</td>\n",
              "      <td>...</td>\n",
              "      <td>...</td>\n",
              "      <td>...</td>\n",
              "      <td>...</td>\n",
              "      <td>...</td>\n",
              "      <td>...</td>\n",
              "      <td>...</td>\n",
              "      <td>...</td>\n",
              "      <td>...</td>\n",
              "      <td>...</td>\n",
              "      <td>...</td>\n",
              "      <td>...</td>\n",
              "      <td>...</td>\n",
              "      <td>...</td>\n",
              "      <td>...</td>\n",
              "    </tr>\n",
              "    <tr>\n",
              "      <th>1883321</th>\n",
              "      <td>10463</td>\n",
              "      <td>2018-06-11</td>\n",
              "      <td>24</td>\n",
              "      <td>0.0</td>\n",
              "      <td>282.16</td>\n",
              "      <td>0</td>\n",
              "      <td>253</td>\n",
              "      <td>0.00</td>\n",
              "      <td>8</td>\n",
              "      <td>44</td>\n",
              "      <td>8</td>\n",
              "      <td>154.82</td>\n",
              "      <td>11</td>\n",
              "      <td>0</td>\n",
              "      <td>6</td>\n",
              "      <td>1528675200000000000</td>\n",
              "    </tr>\n",
              "    <tr>\n",
              "      <th>1883322</th>\n",
              "      <td>10463</td>\n",
              "      <td>2018-06-12</td>\n",
              "      <td>24</td>\n",
              "      <td>0.0</td>\n",
              "      <td>282.16</td>\n",
              "      <td>0</td>\n",
              "      <td>253</td>\n",
              "      <td>0.00</td>\n",
              "      <td>8</td>\n",
              "      <td>44</td>\n",
              "      <td>8</td>\n",
              "      <td>154.82</td>\n",
              "      <td>12</td>\n",
              "      <td>1</td>\n",
              "      <td>6</td>\n",
              "      <td>1528761600000000000</td>\n",
              "    </tr>\n",
              "    <tr>\n",
              "      <th>1883323</th>\n",
              "      <td>10463</td>\n",
              "      <td>2018-06-13</td>\n",
              "      <td>24</td>\n",
              "      <td>0.0</td>\n",
              "      <td>282.16</td>\n",
              "      <td>0</td>\n",
              "      <td>253</td>\n",
              "      <td>0.00</td>\n",
              "      <td>8</td>\n",
              "      <td>44</td>\n",
              "      <td>8</td>\n",
              "      <td>154.82</td>\n",
              "      <td>13</td>\n",
              "      <td>2</td>\n",
              "      <td>6</td>\n",
              "      <td>1528848000000000000</td>\n",
              "    </tr>\n",
              "    <tr>\n",
              "      <th>1883324</th>\n",
              "      <td>10463</td>\n",
              "      <td>2018-06-14</td>\n",
              "      <td>24</td>\n",
              "      <td>0.0</td>\n",
              "      <td>282.16</td>\n",
              "      <td>0</td>\n",
              "      <td>253</td>\n",
              "      <td>0.00</td>\n",
              "      <td>8</td>\n",
              "      <td>44</td>\n",
              "      <td>8</td>\n",
              "      <td>154.82</td>\n",
              "      <td>14</td>\n",
              "      <td>3</td>\n",
              "      <td>6</td>\n",
              "      <td>1528934400000000000</td>\n",
              "    </tr>\n",
              "    <tr>\n",
              "      <th>1883325</th>\n",
              "      <td>10463</td>\n",
              "      <td>2018-06-15</td>\n",
              "      <td>24</td>\n",
              "      <td>0.0</td>\n",
              "      <td>282.16</td>\n",
              "      <td>0</td>\n",
              "      <td>253</td>\n",
              "      <td>0.00</td>\n",
              "      <td>8</td>\n",
              "      <td>44</td>\n",
              "      <td>8</td>\n",
              "      <td>154.82</td>\n",
              "      <td>15</td>\n",
              "      <td>4</td>\n",
              "      <td>6</td>\n",
              "      <td>1529020800000000000</td>\n",
              "    </tr>\n",
              "  </tbody>\n",
              "</table>\n",
              "<p>1736858 rows × 16 columns</p>\n",
              "</div>"
            ],
            "text/plain": [
              "         itemID       date  week  ...  Dayofweek  Month              DateInt\n",
              "0             1 2018-01-01     1  ...          0      1  1514764800000000000\n",
              "1             1 2018-01-02     1  ...          1      1  1514851200000000000\n",
              "2             1 2018-01-03     1  ...          2      1  1514937600000000000\n",
              "3             1 2018-01-04     1  ...          3      1  1515024000000000000\n",
              "4             1 2018-01-05     1  ...          4      1  1515110400000000000\n",
              "...         ...        ...   ...  ...        ...    ...                  ...\n",
              "1883321   10463 2018-06-11    24  ...          0      6  1528675200000000000\n",
              "1883322   10463 2018-06-12    24  ...          1      6  1528761600000000000\n",
              "1883323   10463 2018-06-13    24  ...          2      6  1528848000000000000\n",
              "1883324   10463 2018-06-14    24  ...          3      6  1528934400000000000\n",
              "1883325   10463 2018-06-15    24  ...          4      6  1529020800000000000\n",
              "\n",
              "[1736858 rows x 16 columns]"
            ]
          },
          "metadata": {
            "tags": []
          },
          "execution_count": 34
        }
      ]
    },
    {
      "cell_type": "code",
      "metadata": {
        "id": "QQqJA1aiZ90d",
        "colab_type": "code",
        "colab": {}
      },
      "source": [
        "X_train, X_test = train.drop(['order','date'], axis=1), test.drop(['order','date'], axis=1)\n",
        "y_train, y_test= train['order'].values, test['order'].values"
      ],
      "execution_count": 0,
      "outputs": []
    },
    {
      "cell_type": "code",
      "metadata": {
        "id": "uGBeOtrhaX6g",
        "colab_type": "code",
        "colab": {}
      },
      "source": [
        "from sklearn.ensemble import RandomForestRegressor\n",
        "\n",
        "\n",
        "model = RandomForestRegressor()\n",
        "model.fit(X_train,y_train)\n",
        "pred = model.predict(X_test)"
      ],
      "execution_count": 0,
      "outputs": []
    },
    {
      "cell_type": "code",
      "metadata": {
        "id": "ZZtqbnrSzloy",
        "colab_type": "code",
        "colab": {
          "base_uri": "https://localhost:8080/",
          "height": 119
        },
        "outputId": "bd798a9e-f1f5-47ea-aa25-d5cc589bde05"
      },
      "source": [
        "pred1 = test[['itemID','order']]\n",
        "pred1['pred'] = pred\n",
        "pred1 = pred1.groupby(['itemID']).sum()"
      ],
      "execution_count": 50,
      "outputs": [
        {
          "output_type": "stream",
          "text": [
            "/usr/local/lib/python3.6/dist-packages/ipykernel_launcher.py:2: SettingWithCopyWarning: \n",
            "A value is trying to be set on a copy of a slice from a DataFrame.\n",
            "Try using .loc[row_indexer,col_indexer] = value instead\n",
            "\n",
            "See the caveats in the documentation: https://pandas.pydata.org/pandas-docs/stable/user_guide/indexing.html#returning-a-view-versus-a-copy\n",
            "  \n"
          ],
          "name": "stderr"
        }
      ]
    },
    {
      "cell_type": "code",
      "metadata": {
        "id": "zh2g3JkF0JFF",
        "colab_type": "code",
        "colab": {}
      },
      "source": [
        "x,y,z = score(pred1['pred'].values, pred1['order'].values, infos_df['simulationPrice'].values)"
      ],
      "execution_count": 0,
      "outputs": []
    },
    {
      "cell_type": "code",
      "metadata": {
        "id": "7P3671wN0vQ1",
        "colab_type": "code",
        "colab": {
          "base_uri": "https://localhost:8080/",
          "height": 34
        },
        "outputId": "cbb0d6af-2715-4298-892b-ca6a69e2d404"
      },
      "source": [
        "x/z*100"
      ],
      "execution_count": 57,
      "outputs": [
        {
          "output_type": "execute_result",
          "data": {
            "text/plain": [
              "23.190676335555313"
            ]
          },
          "metadata": {
            "tags": []
          },
          "execution_count": 57
        }
      ]
    },
    {
      "cell_type": "code",
      "metadata": {
        "id": "BmTOGaI401Mo",
        "colab_type": "code",
        "colab": {
          "base_uri": "https://localhost:8080/",
          "height": 34
        },
        "outputId": "0f4495ba-2a3d-4af0-87bf-08ac010c2c09"
      },
      "source": [
        "-y/z*100"
      ],
      "execution_count": 58,
      "outputs": [
        {
          "output_type": "execute_result",
          "data": {
            "text/plain": [
              "-96.12420098546146"
            ]
          },
          "metadata": {
            "tags": []
          },
          "execution_count": 58
        }
      ]
    },
    {
      "cell_type": "code",
      "metadata": {
        "id": "j1O4GfGFrS7z",
        "colab_type": "code",
        "outputId": "9ea5b9cf-3c1c-4b31-b71d-a0476977ade0",
        "colab": {
          "base_uri": "https://localhost:8080/",
          "height": 536
        }
      },
      "source": [
        "'importances = model.feature_importances_\n",
        "std = np.std([tree.feature_importances_ for tree in model.estimators_],\n",
        "             axis=0)\n",
        "indices = np.argsort(importances)[::-1]\n",
        "\n",
        "print(\"Feature ranking:\")\n",
        "\n",
        "for f in range(X_train.shape[1]):\n",
        "    print(\"%d. feature %d (%f)\" % (f + 1, indices[f], importances[indices[f]])+' '+str(X_train.columns[indices[f]]))\n",
        "    \n",
        "plt.figure()\n",
        "plt.title(\"Feature importances\")\n",
        "plt.bar(range(X_train.shape[1]), importances[indices], color=\"r\", yerr=std[indices], align=\"center\")\n",
        "plt.xticks(range(X_train.shape[1]), indices)\n",
        "plt.xlim([-1, X_train.shape[1]])\n",
        "plt.show()"
      ],
      "execution_count": 37,
      "outputs": [
        {
          "output_type": "stream",
          "text": [
            "Feature ranking:\n",
            "1. feature 2 (0.185942) salesPrice\n",
            "2. feature 0 (0.177816) itemID\n",
            "3. feature 13 (0.147304) DateInt\n",
            "4. feature 10 (0.118356) Day\n",
            "5. feature 9 (0.100198) recommendedRetailPrice\n",
            "6. feature 11 (0.061001) Dayofweek\n",
            "7. feature 1 (0.054811) week\n",
            "8. feature 4 (0.042640) manufacturer\n",
            "9. feature 5 (0.037857) customerRating\n",
            "10. feature 3 (0.028730) brand\n",
            "11. feature 12 (0.021793) Month\n",
            "12. feature 7 (0.017675) category2\n",
            "13. feature 6 (0.003575) category1\n",
            "14. feature 8 (0.002301) category3\n"
          ],
          "name": "stdout"
        },
        {
          "output_type": "display_data",
          "data": {
            "image/png": "[encoded data removed]",
            "text/plain": [
              "<Figure size 432x288 with 1 Axes>"
            ]
          },
          "metadata": {
            "tags": [],
            "needs_background": "light"
          }
        }
      ]
    },
    {
      "cell_type": "code",
      "metadata": {
        "id": "GAzaBi4B0igv",
        "colab_type": "code",
        "colab": {}
      },
      "source": [
        ""
      ],
      "execution_count": 0,
      "outputs": []
    }
  ]
}